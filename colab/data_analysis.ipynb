{
  "nbformat": 4,
  "nbformat_minor": 0,
  "metadata": {
    "colab": {
      "name": "portfolio.ipynb",
      "provenance": [],
      "collapsed_sections": []
    },
    "kernelspec": {
      "name": "python3",
      "display_name": "Python 3"
    },
    "language_info": {
      "name": "python"
    }
  },
  "cells": [
    {
      "cell_type": "markdown",
      "source": [
        "Movie dataset을 이용해서 데이터를 분석하는 포트폴리오입니다.  \n",
        "Data에 대한 정보는  https://www.kaggle.com/rounakbanik/the-movies-dataset 의 데이터셋을 사용했습니다.  \n",
        "아래부터는 Spark를 이용한 데이터 처리, Pandas를 이용한 데이터 분석, 알고리즘을 이용한 영화 추천 등을 해보았습니다.   "
      ],
      "metadata": {
        "id": "T3A3STnGyDE0"
      }
    },
    {
      "cell_type": "markdown",
      "source": [
        "#1. Spark 설치 및, Spark를 이용한 데이터 처리 과정\n"
      ],
      "metadata": {
        "id": "jUevJzDVlUpg"
      }
    },
    {
      "cell_type": "code",
      "execution_count": null,
      "metadata": {
        "id": "82kbHzRUjYdG"
      },
      "outputs": [],
      "source": [
        "#spark 설치 및 기본 설정\n",
        "!apt-get install openjdk-8-jdk-headless\n",
        "!wget -q https://mirror.navercorp.com/apache/spark/spark-3.1.2/spark-3.1.2-bin-hadoop3.2.tgz\n",
        "!tar -xvf spark-3.1.2-bin-hadoop3.2.tgz\n",
        "!pip install findspark\n",
        "import os\n",
        "os.environ[\"JAVA_HOME\"] = \"/usr/lib/jvm/java-8-openjdk-amd64\"\n",
        "os.environ[\"SPARK_HOME\"] = \"/content/spark-3.1.2-bin-hadoop3.2\"\n",
        "import findspark\n",
        "findspark.init()\n",
        "import pyspark\n",
        "spark = pyspark.sql.SparkSession.builder.appName(\"test\").master(\"local[*]\").getOrCreate()"
      ]
    },
    {
      "cell_type": "code",
      "source": [
        "#데이터 원본 불러오기\n",
        "path = '/content/drive/MyDrive/Colab_project/movie'\n",
        "from pyspark.sql import SparkSession\n",
        "sc = SparkSession.builder.master('local[*]').appName('hello').getOrCreate()\n",
        "file_df = sc.read.csv(path + '/movies_metadata.csv', header = True)\n",
        "print((file_df.count(), len(file_df.columns)))\n",
        "file_df.head(3)"
      ],
      "metadata": {
        "colab": {
          "base_uri": "https://localhost:8080/"
        },
        "id": "iDwxeEBNlXqZ",
        "outputId": "e98b450c-fc29-486d-ce3c-d1cc3f395122"
      },
      "execution_count": 77,
      "outputs": [
        {
          "output_type": "stream",
          "name": "stdout",
          "text": [
            "(45572, 24)\n"
          ]
        },
        {
          "output_type": "execute_result",
          "data": {
            "text/plain": [
              "[Row(adult='False', belongs_to_collection=\"{'id': 10194, 'name': 'Toy Story Collection', 'poster_path': '/7G9915LfUQ2lVfwMEEhDsn3kT4B.jpg', 'backdrop_path': '/9FBwqcd9IRruEDUrTdcaafOMKUq.jpg'}\", budget='30000000', genres=\"[{'id': 16, 'name': 'Animation'}, {'id': 35, 'name': 'Comedy'}, {'id': 10751, 'name': 'Family'}]\", homepage='http://toystory.disney.com/toy-story', id='862', imdb_id='tt0114709', original_language='en', original_title='Toy Story', overview=\"Led by Woody, Andy's toys live happily in his room until Andy's birthday brings Buzz Lightyear onto the scene. Afraid of losing his place in Andy's heart, Woody plots against Buzz. But when circumstances separate Buzz and Woody from their owner, the duo eventually learns to put aside their differences.\", popularity='21.946943', poster_path='/rhIRbceoE9lR4veEXuwCC2wARtG.jpg', production_companies=\"[{'name': 'Pixar Animation Studios', 'id': 3}]\", production_countries=\"[{'iso_3166_1': 'US', 'name': 'United States of America'}]\", release_date='1995-10-30', revenue='373554033', runtime='81.0', spoken_languages=\"[{'iso_639_1': 'en', 'name': 'English'}]\", status='Released', tagline=None, title='Toy Story', video='False', vote_average='7.7', vote_count='5415'),\n",
              " Row(adult='False', belongs_to_collection=None, budget='65000000', genres=\"[{'id': 12, 'name': 'Adventure'}, {'id': 14, 'name': 'Fantasy'}, {'id': 10751, 'name': 'Family'}]\", homepage=None, id='8844', imdb_id='tt0113497', original_language='en', original_title='Jumanji', overview=\"When siblings Judy and Peter discover an enchanted board game that opens the door to a magical world, they unwittingly invite Alan -- an adult who's been trapped inside the game for 26 years -- into their living room. Alan's only hope for freedom is to finish the game, which proves risky as all three find themselves running from giant rhinoceroses, evil monkeys and other terrifying creatures.\", popularity='17.015539', poster_path='/vzmL6fP7aPKNKPRTFnZmiUfciyV.jpg', production_companies=\"[{'name': 'TriStar Pictures', 'id': 559}, {'name': 'Teitler Film', 'id': 2550}, {'name': 'Interscope Communications', 'id': 10201}]\", production_countries=\"[{'iso_3166_1': 'US', 'name': 'United States of America'}]\", release_date='1995-12-15', revenue='262797249', runtime='104.0', spoken_languages=\"[{'iso_639_1': 'en', 'name': 'English'}, {'iso_639_1': 'fr', 'name': 'Français'}]\", status='Released', tagline='Roll the dice and unleash the excitement!', title='Jumanji', video='False', vote_average='6.9', vote_count='2413'),\n",
              " Row(adult='False', belongs_to_collection=\"{'id': 119050, 'name': 'Grumpy Old Men Collection', 'poster_path': '/nLvUdqgPgm3F85NMCii9gVFUcet.jpg', 'backdrop_path': '/hypTnLot2z8wpFS7qwsQHW1uV8u.jpg'}\", budget='0', genres=\"[{'id': 10749, 'name': 'Romance'}, {'id': 35, 'name': 'Comedy'}]\", homepage=None, id='15602', imdb_id='tt0113228', original_language='en', original_title='Grumpier Old Men', overview=\"A family wedding reignites the ancient feud between next-door neighbors and fishing buddies John and Max. Meanwhile, a sultry Italian divorcée opens a restaurant at the local bait shop, alarming the locals who worry she'll scare the fish away. But she's less interested in seafood than she is in cooking up a hot time with Max.\", popularity='11.7129', poster_path='/6ksm1sjKMFLbO7UY2i6G1ju9SML.jpg', production_companies=\"[{'name': 'Warner Bros.', 'id': 6194}, {'name': 'Lancaster Gate', 'id': 19464}]\", production_countries=\"[{'iso_3166_1': 'US', 'name': 'United States of America'}]\", release_date='1995-12-22', revenue='0', runtime='101.0', spoken_languages=\"[{'iso_639_1': 'en', 'name': 'English'}]\", status='Released', tagline='Still Yelling. Still Fighting. Still Ready for Love.', title='Grumpier Old Men', video='False', vote_average='6.5', vote_count='92')]"
            ]
          },
          "metadata": {},
          "execution_count": 77
        }
      ]
    },
    {
      "cell_type": "code",
      "source": [
        "from pyspark.sql.functions import *\n",
        "\n",
        "#각 데이터 형태에 맞게 변환\n",
        "file_df = file_df.withColumn(\"vote_average\", file_df[\"vote_average\"].cast(\"float\"))\n",
        "file_df = file_df.withColumn(\"vote_count\", file_df[\"vote_count\"].cast(\"int\"))\n",
        "file_df = file_df.withColumn(\"id\", file_df[\"id\"].cast(\"int\"))\n",
        "file_df = file_df.withColumn(\"release_date\", to_date(file_df[\"release_date\"]))\n",
        "\n",
        "#null 값은 filter을 통해서 제거\n",
        "file_df = file_df.filter(col(\"vote_average\").isNotNull())\n",
        "file_df = file_df.filter(col(\"vote_count\").isNotNull())\n",
        "file_df = file_df.filter(col(\"id\").isNotNull())\n",
        "file_df = file_df.filter(col(\"release_date\").isNotNull())\n",
        "\n",
        "#필요없는 col 값들은 제거\n",
        "file_df = file_df.select('belongs_to_collection', 'genres', 'id' , 'release_date','tagline','title','vote_average','vote_count')\n",
        "\n",
        "print((file_df.count(), len(file_df.columns)))"
      ],
      "metadata": {
        "colab": {
          "base_uri": "https://localhost:8080/"
        },
        "id": "jkngWySFw4-1",
        "outputId": "045eee1a-e2be-4a9f-b6b9-5c219ba8747d"
      },
      "execution_count": 78,
      "outputs": [
        {
          "output_type": "stream",
          "name": "stdout",
          "text": [
            "(41489, 8)\n"
          ]
        }
      ]
    },
    {
      "cell_type": "code",
      "source": [
        "#속성 정보들 확인\n",
        "file_df.printSchema()"
      ],
      "metadata": {
        "colab": {
          "base_uri": "https://localhost:8080/"
        },
        "id": "C5EiV1H4PEXZ",
        "outputId": "1d79eb79-a1a6-4896-f9a9-c9d47c606e3d"
      },
      "execution_count": 79,
      "outputs": [
        {
          "output_type": "stream",
          "name": "stdout",
          "text": [
            "root\n",
            " |-- belongs_to_collection: string (nullable = true)\n",
            " |-- genres: string (nullable = true)\n",
            " |-- id: integer (nullable = true)\n",
            " |-- release_date: date (nullable = true)\n",
            " |-- tagline: string (nullable = true)\n",
            " |-- title: string (nullable = true)\n",
            " |-- vote_average: float (nullable = true)\n",
            " |-- vote_count: integer (nullable = true)\n",
            "\n"
          ]
        }
      ]
    },
    {
      "cell_type": "code",
      "source": [
        "#genres, collection을 dict 형태에서 list형태로 변환, 데이터 처리 후 Dataframe 확인\n",
        "from ast import literal_eval\n",
        "\n",
        "def get_genres(x):\n",
        "  x = literal_eval(x)\n",
        "  answer = []\n",
        "  for i in x:\n",
        "    answer.append(i['name'])\n",
        "  return answer\n",
        "\n",
        "def get_collection(x):\n",
        "  try:\n",
        "    x = literal_eval(x)\n",
        "    return x['name']\n",
        "  except:\n",
        "    return None\n",
        "\n",
        "from pyspark.sql.types import StringType\n",
        "\n",
        "func_udf = udf(get_genres, StringType())\n",
        "file_df = file_df.withColumn(\"genres\", func_udf(file_df[\"genres\"]))\n",
        "\n",
        "func_udf = udf(get_collection, StringType())\n",
        "file_df = file_df.withColumn(\"belongs_to_collection\", func_udf(file_df[\"belongs_to_collection\"]))\n",
        "file_df.orderBy(col(\"id\").asc()).show(10)"
      ],
      "metadata": {
        "colab": {
          "base_uri": "https://localhost:8080/"
        },
        "id": "CbEDfNzFNAfd",
        "outputId": "a8eadd9c-9c93-4bc7-c0c1-79a555796524"
      },
      "execution_count": 80,
      "outputs": [
        {
          "output_type": "stream",
          "name": "stdout",
          "text": [
            "+---------------------+--------------------+---+------------+--------------------+-------------------+------------+----------+\n",
            "|belongs_to_collection|              genres| id|release_date|             tagline|              title|vote_average|vote_count|\n",
            "+---------------------+--------------------+---+------------+--------------------+-------------------+------------+----------+\n",
            "|                 null|      [Drama, Crime]|  2|  1988-10-21|                null|              Ariel|         7.1|        44|\n",
            "|                 null|     [Drama, Comedy]|  3|  1986-10-16|                null|Shadows in Paradise|         7.1|        35|\n",
            "|                 null|     [Crime, Comedy]|  5|  1995-12-09|Twelve outrageous...|         Four Rooms|         6.5|       539|\n",
            "|                 null|[Action, Thriller...|  6|  1993-10-15|Don't move. Don't...|     Judgment Night|         6.4|        79|\n",
            "| Star Wars Collection|[Adventure, Actio...| 11|  1977-05-25|A long time ago i...|          Star Wars|         8.1|      6778|\n",
            "| Finding Nemo Coll...| [Animation, Family]| 12|  2003-05-30|There are 3.7 tri...|       Finding Nemo|         7.6|      6292|\n",
            "|                 null|[Comedy, Drama, R...| 13|  1994-07-06|The world will ne...|       Forrest Gump|         8.2|      8147|\n",
            "|                 null|             [Drama]| 14|  1999-09-15|        Look closer.|    American Beauty|         7.9|      3438|\n",
            "|                 null|    [Mystery, Drama]| 15|  1941-04-30|      It's Terrific!|       Citizen Kane|         8.0|      1244|\n",
            "| Heart of Gold Col...|[Drama, Crime, Mu...| 16|  2000-05-17|You don't need ey...| Dancer in the Dark|         7.7|       392|\n",
            "+---------------------+--------------------+---+------------+--------------------+-------------------+------------+----------+\n",
            "only showing top 10 rows\n",
            "\n"
          ]
        }
      ]
    },
    {
      "cell_type": "code",
      "source": [
        "#평점 데이터 확인 및 timestamp 제거\n",
        "rating_df = sc.read.csv(path + '/ratings_small.csv', header = True)\n",
        "rating_df = rating_df.drop('timestamp')\n",
        "rating_df.show(10)"
      ],
      "metadata": {
        "colab": {
          "base_uri": "https://localhost:8080/"
        },
        "id": "AIVANybj9imK",
        "outputId": "9b38a5a0-e08f-4285-a104-a973972d7268"
      },
      "execution_count": 81,
      "outputs": [
        {
          "output_type": "stream",
          "name": "stdout",
          "text": [
            "+------+-------+------+\n",
            "|userId|movieId|rating|\n",
            "+------+-------+------+\n",
            "|     1|     31|   2.5|\n",
            "|     1|   1029|   3.0|\n",
            "|     1|   1061|   3.0|\n",
            "|     1|   1129|   2.0|\n",
            "|     1|   1172|   4.0|\n",
            "|     1|   1263|   2.0|\n",
            "|     1|   1287|   2.0|\n",
            "|     1|   1293|   2.0|\n",
            "|     1|   1339|   3.5|\n",
            "|     1|   1343|   2.0|\n",
            "+------+-------+------+\n",
            "only showing top 10 rows\n",
            "\n"
          ]
        }
      ]
    },
    {
      "cell_type": "markdown",
      "source": [
        "#2. 데이터 분석"
      ],
      "metadata": {
        "id": "LkpyCYNnoEEJ"
      }
    },
    {
      "cell_type": "code",
      "source": [
        "#데이터를 spark 형에서 pandas로 변환\n",
        "import numpy as np\n",
        "import pandas as pd\n",
        "movie_df = file_df.select(\"*\").toPandas()\n",
        "rating_df = rating_df.select(\"*\").toPandas()\n",
        "movie_df.head(5)"
      ],
      "metadata": {
        "colab": {
          "base_uri": "https://localhost:8080/",
          "height": 206
        },
        "id": "OLCELlSc8Cz2",
        "outputId": "49b623b8-d16c-4f98-a17c-2390e90dc6ad"
      },
      "execution_count": 82,
      "outputs": [
        {
          "output_type": "execute_result",
          "data": {
            "text/plain": [
              "            belongs_to_collection                            genres     id  \\\n",
              "0            Toy Story Collection       [Animation, Comedy, Family]    862   \n",
              "1                            None      [Adventure, Fantasy, Family]   8844   \n",
              "2       Grumpy Old Men Collection                 [Romance, Comedy]  15602   \n",
              "3  Father of the Bride Collection                          [Comedy]  11862   \n",
              "4                            None  [Action, Crime, Drama, Thriller]    949   \n",
              "\n",
              "  release_date                                            tagline  \\\n",
              "0   1995-10-30                                               None   \n",
              "1   1995-12-15          Roll the dice and unleash the excitement!   \n",
              "2   1995-12-22  Still Yelling. Still Fighting. Still Ready for...   \n",
              "3   1995-02-10  Just When His World Is Back To Normal... He's ...   \n",
              "4   1995-12-15                           A Los Angeles Crime Saga   \n",
              "\n",
              "                         title  vote_average  vote_count  \n",
              "0                    Toy Story           7.7        5415  \n",
              "1                      Jumanji           6.9        2413  \n",
              "2             Grumpier Old Men           6.5          92  \n",
              "3  Father of the Bride Part II           5.7         173  \n",
              "4                         Heat           7.7        1886  "
            ],
            "text/html": [
              "\n",
              "  <div id=\"df-41144546-9a7c-42b7-a41b-401a2615dc91\">\n",
              "    <div class=\"colab-df-container\">\n",
              "      <div>\n",
              "<style scoped>\n",
              "    .dataframe tbody tr th:only-of-type {\n",
              "        vertical-align: middle;\n",
              "    }\n",
              "\n",
              "    .dataframe tbody tr th {\n",
              "        vertical-align: top;\n",
              "    }\n",
              "\n",
              "    .dataframe thead th {\n",
              "        text-align: right;\n",
              "    }\n",
              "</style>\n",
              "<table border=\"1\" class=\"dataframe\">\n",
              "  <thead>\n",
              "    <tr style=\"text-align: right;\">\n",
              "      <th></th>\n",
              "      <th>belongs_to_collection</th>\n",
              "      <th>genres</th>\n",
              "      <th>id</th>\n",
              "      <th>release_date</th>\n",
              "      <th>tagline</th>\n",
              "      <th>title</th>\n",
              "      <th>vote_average</th>\n",
              "      <th>vote_count</th>\n",
              "    </tr>\n",
              "  </thead>\n",
              "  <tbody>\n",
              "    <tr>\n",
              "      <th>0</th>\n",
              "      <td>Toy Story Collection</td>\n",
              "      <td>[Animation, Comedy, Family]</td>\n",
              "      <td>862</td>\n",
              "      <td>1995-10-30</td>\n",
              "      <td>None</td>\n",
              "      <td>Toy Story</td>\n",
              "      <td>7.7</td>\n",
              "      <td>5415</td>\n",
              "    </tr>\n",
              "    <tr>\n",
              "      <th>1</th>\n",
              "      <td>None</td>\n",
              "      <td>[Adventure, Fantasy, Family]</td>\n",
              "      <td>8844</td>\n",
              "      <td>1995-12-15</td>\n",
              "      <td>Roll the dice and unleash the excitement!</td>\n",
              "      <td>Jumanji</td>\n",
              "      <td>6.9</td>\n",
              "      <td>2413</td>\n",
              "    </tr>\n",
              "    <tr>\n",
              "      <th>2</th>\n",
              "      <td>Grumpy Old Men Collection</td>\n",
              "      <td>[Romance, Comedy]</td>\n",
              "      <td>15602</td>\n",
              "      <td>1995-12-22</td>\n",
              "      <td>Still Yelling. Still Fighting. Still Ready for...</td>\n",
              "      <td>Grumpier Old Men</td>\n",
              "      <td>6.5</td>\n",
              "      <td>92</td>\n",
              "    </tr>\n",
              "    <tr>\n",
              "      <th>3</th>\n",
              "      <td>Father of the Bride Collection</td>\n",
              "      <td>[Comedy]</td>\n",
              "      <td>11862</td>\n",
              "      <td>1995-02-10</td>\n",
              "      <td>Just When His World Is Back To Normal... He's ...</td>\n",
              "      <td>Father of the Bride Part II</td>\n",
              "      <td>5.7</td>\n",
              "      <td>173</td>\n",
              "    </tr>\n",
              "    <tr>\n",
              "      <th>4</th>\n",
              "      <td>None</td>\n",
              "      <td>[Action, Crime, Drama, Thriller]</td>\n",
              "      <td>949</td>\n",
              "      <td>1995-12-15</td>\n",
              "      <td>A Los Angeles Crime Saga</td>\n",
              "      <td>Heat</td>\n",
              "      <td>7.7</td>\n",
              "      <td>1886</td>\n",
              "    </tr>\n",
              "  </tbody>\n",
              "</table>\n",
              "</div>\n",
              "      <button class=\"colab-df-convert\" onclick=\"convertToInteractive('df-41144546-9a7c-42b7-a41b-401a2615dc91')\"\n",
              "              title=\"Convert this dataframe to an interactive table.\"\n",
              "              style=\"display:none;\">\n",
              "        \n",
              "  <svg xmlns=\"http://www.w3.org/2000/svg\" height=\"24px\"viewBox=\"0 0 24 24\"\n",
              "       width=\"24px\">\n",
              "    <path d=\"M0 0h24v24H0V0z\" fill=\"none\"/>\n",
              "    <path d=\"M18.56 5.44l.94 2.06.94-2.06 2.06-.94-2.06-.94-.94-2.06-.94 2.06-2.06.94zm-11 1L8.5 8.5l.94-2.06 2.06-.94-2.06-.94L8.5 2.5l-.94 2.06-2.06.94zm10 10l.94 2.06.94-2.06 2.06-.94-2.06-.94-.94-2.06-.94 2.06-2.06.94z\"/><path d=\"M17.41 7.96l-1.37-1.37c-.4-.4-.92-.59-1.43-.59-.52 0-1.04.2-1.43.59L10.3 9.45l-7.72 7.72c-.78.78-.78 2.05 0 2.83L4 21.41c.39.39.9.59 1.41.59.51 0 1.02-.2 1.41-.59l7.78-7.78 2.81-2.81c.8-.78.8-2.07 0-2.86zM5.41 20L4 18.59l7.72-7.72 1.47 1.35L5.41 20z\"/>\n",
              "  </svg>\n",
              "      </button>\n",
              "      \n",
              "  <style>\n",
              "    .colab-df-container {\n",
              "      display:flex;\n",
              "      flex-wrap:wrap;\n",
              "      gap: 12px;\n",
              "    }\n",
              "\n",
              "    .colab-df-convert {\n",
              "      background-color: #E8F0FE;\n",
              "      border: none;\n",
              "      border-radius: 50%;\n",
              "      cursor: pointer;\n",
              "      display: none;\n",
              "      fill: #1967D2;\n",
              "      height: 32px;\n",
              "      padding: 0 0 0 0;\n",
              "      width: 32px;\n",
              "    }\n",
              "\n",
              "    .colab-df-convert:hover {\n",
              "      background-color: #E2EBFA;\n",
              "      box-shadow: 0px 1px 2px rgba(60, 64, 67, 0.3), 0px 1px 3px 1px rgba(60, 64, 67, 0.15);\n",
              "      fill: #174EA6;\n",
              "    }\n",
              "\n",
              "    [theme=dark] .colab-df-convert {\n",
              "      background-color: #3B4455;\n",
              "      fill: #D2E3FC;\n",
              "    }\n",
              "\n",
              "    [theme=dark] .colab-df-convert:hover {\n",
              "      background-color: #434B5C;\n",
              "      box-shadow: 0px 1px 3px 1px rgba(0, 0, 0, 0.15);\n",
              "      filter: drop-shadow(0px 1px 2px rgba(0, 0, 0, 0.3));\n",
              "      fill: #FFFFFF;\n",
              "    }\n",
              "  </style>\n",
              "\n",
              "      <script>\n",
              "        const buttonEl =\n",
              "          document.querySelector('#df-41144546-9a7c-42b7-a41b-401a2615dc91 button.colab-df-convert');\n",
              "        buttonEl.style.display =\n",
              "          google.colab.kernel.accessAllowed ? 'block' : 'none';\n",
              "\n",
              "        async function convertToInteractive(key) {\n",
              "          const element = document.querySelector('#df-41144546-9a7c-42b7-a41b-401a2615dc91');\n",
              "          const dataTable =\n",
              "            await google.colab.kernel.invokeFunction('convertToInteractive',\n",
              "                                                     [key], {});\n",
              "          if (!dataTable) return;\n",
              "\n",
              "          const docLinkHtml = 'Like what you see? Visit the ' +\n",
              "            '<a target=\"_blank\" href=https://colab.research.google.com/notebooks/data_table.ipynb>data table notebook</a>'\n",
              "            + ' to learn more about interactive tables.';\n",
              "          element.innerHTML = '';\n",
              "          dataTable['output_type'] = 'display_data';\n",
              "          await google.colab.output.renderOutput(dataTable, element);\n",
              "          const docLink = document.createElement('div');\n",
              "          docLink.innerHTML = docLinkHtml;\n",
              "          element.appendChild(docLink);\n",
              "        }\n",
              "      </script>\n",
              "    </div>\n",
              "  </div>\n",
              "  "
            ]
          },
          "metadata": {},
          "execution_count": 82
        }
      ]
    },
    {
      "cell_type": "code",
      "source": [
        "print('영화의 개수 : ', len(movie_df))\n",
        "print('평점의 개수 : ', len(rating_df))"
      ],
      "metadata": {
        "colab": {
          "base_uri": "https://localhost:8080/"
        },
        "id": "5AskpKTL-Oo4",
        "outputId": "e5b3b4a7-9baa-4892-9ae2-317c96ed44fd"
      },
      "execution_count": 83,
      "outputs": [
        {
          "output_type": "stream",
          "name": "stdout",
          "text": [
            "영화의 개수 :  41489\n",
            "평점의 개수 :  100004\n"
          ]
        }
      ]
    },
    {
      "cell_type": "code",
      "source": [
        "#장르의 개수 확인\n",
        "import yaml\n",
        "genres_count = {}\n",
        "for i in range(len(movie_df)):\n",
        "    try:\n",
        "      genres = movie_df.loc[i,'genres']\n",
        "      genres = yaml.load(genres)\n",
        "    except:\n",
        "      continue\n",
        "    for j in genres:\n",
        "        if j not in genres_count:\n",
        "            genres_count.update({j : 1})\n",
        "        else:\n",
        "            genres_count[j] += 1\n",
        "data_gen = pd.DataFrame.from_dict([genres_count])\n",
        "data_gen = data_gen.rename(index = {0 : 'count'})\n",
        "data_gen = data_gen.T\n",
        "data_gen = data_gen.sort_values(by = 'count',ascending= False)\n",
        "print(data_gen.head(3))\n",
        "data_gen.plot.bar()"
      ],
      "metadata": {
        "colab": {
          "base_uri": "https://localhost:8080/",
          "height": 422
        },
        "id": "X1E2Smfd_e0G",
        "outputId": "b13f28cf-d923-4557-c233-e30e0d276ac9"
      },
      "execution_count": 84,
      "outputs": [
        {
          "output_type": "stream",
          "name": "stdout",
          "text": [
            "          count\n",
            "Drama     18654\n",
            "Comedy    11933\n",
            "Thriller   7132\n"
          ]
        },
        {
          "output_type": "execute_result",
          "data": {
            "text/plain": [
              "<matplotlib.axes._subplots.AxesSubplot at 0x7f9d7c68f450>"
            ]
          },
          "metadata": {},
          "execution_count": 84
        },
        {
          "output_type": "display_data",
          "data": {
            "text/plain": [
              "<Figure size 432x288 with 1 Axes>"
            ],
            "image/png": "[encoded data removed]"
          },
          "metadata": {
            "needs_background": "light"
          }
        }
      ]
    },
    {
      "cell_type": "code",
      "source": [
        "data_gen.plot.pie(y='count', figsize=(8, 8))"
      ],
      "metadata": {
        "colab": {
          "base_uri": "https://localhost:8080/",
          "height": 484
        },
        "id": "pXYMYawx3BQT",
        "outputId": "450ba4a6-2f33-496c-a572-100d3fee6362"
      },
      "execution_count": 85,
      "outputs": [
        {
          "output_type": "execute_result",
          "data": {
            "text/plain": [
              "<matplotlib.axes._subplots.AxesSubplot at 0x7f9d7d1efa10>"
            ]
          },
          "metadata": {},
          "execution_count": 85
        },
        {
          "output_type": "display_data",
          "data": {
            "text/plain": [
              "<Figure size 576x576 with 1 Axes>"
            ],
            "image/png": "[encoded data removed]"
          },
          "metadata": {}
        }
      ]
    },
    {
      "cell_type": "code",
      "source": [
        "#keyword의 단어 확인\n",
        "keywords_count  = {}\n",
        "for i in range(len(movie_df)):\n",
        "    try:\n",
        "      keywords = movie_df.loc[i,'tagline']\n",
        "      keywords = keywords.split(\" \")\n",
        "    except:\n",
        "      continue\n",
        "    for j in keywords:\n",
        "        if j not in keywords_count :\n",
        "            keywords_count .update({j : 1})\n",
        "        else:\n",
        "            keywords_count [j] += 1\n",
        "data_tag = pd.DataFrame.from_dict([keywords_count ])\n",
        "data_tag = data_tag.rename(index = {0 : 'count'})\n",
        "data_tag = data_tag.T\n",
        "data_tag = data_tag.sort_values(by = 'count',ascending= False)\n",
        "print(data_tag.head(3))\n",
        "data_tag.head(30).plot.bar()"
      ],
      "metadata": {
        "colab": {
          "base_uri": "https://localhost:8080/",
          "height": 372
        },
        "id": "mLIBYaVyDT1f",
        "outputId": "d70fb9c7-cb73-45ca-fbe8-299509cb3044"
      },
      "execution_count": 86,
      "outputs": [
        {
          "output_type": "stream",
          "name": "stdout",
          "text": [
            "     count\n",
            "the   6389\n",
            "a     4035\n",
            "of    3637\n"
          ]
        },
        {
          "output_type": "execute_result",
          "data": {
            "text/plain": [
              "<matplotlib.axes._subplots.AxesSubplot at 0x7f9d66bc6550>"
            ]
          },
          "metadata": {},
          "execution_count": 86
        },
        {
          "output_type": "display_data",
          "data": {
            "text/plain": [
              "<Figure size 432x288 with 1 Axes>"
            ],
            "image/png": "[encoded data removed]"
          },
          "metadata": {
            "needs_background": "light"
          }
        }
      ]
    },
    {
      "cell_type": "code",
      "source": [
        "#collection의 정보 개수 확인\n",
        "collection_infor = movie_df.groupby('belongs_to_collection').size().reset_index(name='counts')\n",
        "collection_infor = collection_infor.sort_values(by = 'counts' , ascending= False)\n",
        "print(collection_infor.head(3))\n",
        "collection_infor.head(30).plot(x = 'belongs_to_collection', kind=\"bar\")"
      ],
      "metadata": {
        "colab": {
          "base_uri": "https://localhost:8080/",
          "height": 568
        },
        "id": "kM8P3saQFTUs",
        "outputId": "9d4efaf8-b654-4521-cfaf-61c2addd676f"
      },
      "execution_count": 87,
      "outputs": [
        {
          "output_type": "stream",
          "name": "stdout",
          "text": [
            "              belongs_to_collection  counts\n",
            "1178                The Bowery Boys      28\n",
            "611           James Bond Collection      26\n",
            "1561  Zatôichi: The Blind Swordsman      25\n"
          ]
        },
        {
          "output_type": "execute_result",
          "data": {
            "text/plain": [
              "<matplotlib.axes._subplots.AxesSubplot at 0x7f9d67d0df10>"
            ]
          },
          "metadata": {},
          "execution_count": 87
        },
        {
          "output_type": "display_data",
          "data": {
            "text/plain": [
              "<Figure size 432x288 with 1 Axes>"
            ],
            "image/png": "[encoded data removed]"
          },
          "metadata": {
            "needs_background": "light"
          }
        }
      ]
    },
    {
      "cell_type": "code",
      "source": [
        "#년도마다 영화 개수 살펴보기\n",
        "year_info = movie_df.copy()\n",
        "year_info['release_year'] = year_info['release_date'].apply(lambda x : x.year)\n",
        "year_info = year_info.groupby('release_year').size().reset_index(name='movie_counts')\n",
        "year_info.sort_values('release_year')\n",
        "year_info.plot(x = 'release_year' , kind = 'line')"
      ],
      "metadata": {
        "colab": {
          "base_uri": "https://localhost:8080/",
          "height": 298
        },
        "id": "G2DKl0Pi9C3K",
        "outputId": "da621595-1328-4afd-ebe7-ac1ad9c8affc"
      },
      "execution_count": 88,
      "outputs": [
        {
          "output_type": "execute_result",
          "data": {
            "text/plain": [
              "<matplotlib.axes._subplots.AxesSubplot at 0x7f9d650ed410>"
            ]
          },
          "metadata": {},
          "execution_count": 88
        },
        {
          "output_type": "display_data",
          "data": {
            "text/plain": [
              "<Figure size 432x288 with 1 Axes>"
            ],
            "image/png": "[encoded data removed]"
          },
          "metadata": {
            "needs_background": "light"
          }
        }
      ]
    },
    {
      "cell_type": "markdown",
      "source": [
        "# 3 평점 순 영화 추천\n",
        "\n",
        "영화 평점의 경우 단순한 평점이 아닌 IMDB의 계산 방식을 따랐습니다.  \n",
        "평점 개수가 1개인 영화와 평점 개수가 여러 개인 영화의 평점은 가중치를 다르게 설정하여 계산한 방식으로, 평점이 1개인데 10점인 영화가 맨위에 오는 것을 막아주는 용도입니다.  \n",
        "상위 10퍼의 평점 개수를 측정하여 커트라인을 만들고, 영화 평점 개수에 따라 평점에 가중치를 두어서 새롭게 계산했습니다.\n"
      ],
      "metadata": {
        "id": "tgry4WP7FjF3"
      }
    },
    {
      "cell_type": "code",
      "source": [
        "C= movie_df['vote_average'].mean()\n",
        "m= movie_df['vote_count'].quantile(0.9)\n",
        "print('영화 평점 평균 : ', C , '/ 상위 10퍼가 받은 영화 평점 개수 : ', m)"
      ],
      "metadata": {
        "colab": {
          "base_uri": "https://localhost:8080/"
        },
        "id": "bxPZmB10FeZ2",
        "outputId": "beb6f1d7-552d-4bf2-b60f-e51effcc48e0"
      },
      "execution_count": 89,
      "outputs": [
        {
          "output_type": "stream",
          "name": "stdout",
          "text": [
            "영화 평점 평균 :  5.618377208709717 / 상위 10퍼가 받은 영화 평점 개수 :  162.0\n"
          ]
        }
      ]
    },
    {
      "cell_type": "code",
      "source": [
        "q_movies = movie_df.copy().loc[movie_df['vote_count'] >= m]\n",
        "q_movies.shape\n",
        "\n",
        "def weighted_rating(x, m=m, C=C):\n",
        "    v = x['vote_count']\n",
        "    R = x['vote_average']\n",
        "    # IMDB formula에 따라서 계산한 공식\n",
        "    return (v/(v+m) * R) + (m/(m+v) * C)\n",
        "\n",
        "q_movies['score'] = q_movies.apply(weighted_rating, axis=1)\n",
        "q_movies = q_movies.sort_values('score', ascending=False)\n",
        "\n",
        "#score 순으로 정렬함. 쇼생크 탈출, 대부, 용감한자, 다크 나이트 순으로 나옴\n",
        "q_movies[['title', 'vote_count', 'vote_average', 'score']].head(10)"
      ],
      "metadata": {
        "colab": {
          "base_uri": "https://localhost:8080/",
          "height": 363
        },
        "id": "XRJtMqpsGE_k",
        "outputId": "464d234e-4d1f-4382-9214-3f323e57d759"
      },
      "execution_count": 90,
      "outputs": [
        {
          "output_type": "execute_result",
          "data": {
            "text/plain": [
              "                             title  vote_count  vote_average     score\n",
              "281       The Shawshank Redemption        8358           8.5  8.445209\n",
              "759                  The Godfather        6024           8.5  8.424536\n",
              "9291   Dilwale Dulhania Le Jayenge         661           9.1  8.414675\n",
              "11272              The Dark Knight       12269           8.3  8.265053\n",
              "259                   Pulp Fiction        8670           8.3  8.250813\n",
              "474               Schindler's List        4436           8.3  8.205519\n",
              "21500                     Whiplash        4376           8.3  8.204270\n",
              "4930                 Spirited Away        3968           8.3  8.194813\n",
              "1989             Life Is Beautiful        3643           8.3  8.185829\n",
              "1067        The Godfather: Part II        3418           8.3  8.178653"
            ],
            "text/html": [
              "\n",
              "  <div id=\"df-377f5b5b-3757-42d0-aba6-9bef19685e5e\">\n",
              "    <div class=\"colab-df-container\">\n",
              "      <div>\n",
              "<style scoped>\n",
              "    .dataframe tbody tr th:only-of-type {\n",
              "        vertical-align: middle;\n",
              "    }\n",
              "\n",
              "    .dataframe tbody tr th {\n",
              "        vertical-align: top;\n",
              "    }\n",
              "\n",
              "    .dataframe thead th {\n",
              "        text-align: right;\n",
              "    }\n",
              "</style>\n",
              "<table border=\"1\" class=\"dataframe\">\n",
              "  <thead>\n",
              "    <tr style=\"text-align: right;\">\n",
              "      <th></th>\n",
              "      <th>title</th>\n",
              "      <th>vote_count</th>\n",
              "      <th>vote_average</th>\n",
              "      <th>score</th>\n",
              "    </tr>\n",
              "  </thead>\n",
              "  <tbody>\n",
              "    <tr>\n",
              "      <th>281</th>\n",
              "      <td>The Shawshank Redemption</td>\n",
              "      <td>8358</td>\n",
              "      <td>8.5</td>\n",
              "      <td>8.445209</td>\n",
              "    </tr>\n",
              "    <tr>\n",
              "      <th>759</th>\n",
              "      <td>The Godfather</td>\n",
              "      <td>6024</td>\n",
              "      <td>8.5</td>\n",
              "      <td>8.424536</td>\n",
              "    </tr>\n",
              "    <tr>\n",
              "      <th>9291</th>\n",
              "      <td>Dilwale Dulhania Le Jayenge</td>\n",
              "      <td>661</td>\n",
              "      <td>9.1</td>\n",
              "      <td>8.414675</td>\n",
              "    </tr>\n",
              "    <tr>\n",
              "      <th>11272</th>\n",
              "      <td>The Dark Knight</td>\n",
              "      <td>12269</td>\n",
              "      <td>8.3</td>\n",
              "      <td>8.265053</td>\n",
              "    </tr>\n",
              "    <tr>\n",
              "      <th>259</th>\n",
              "      <td>Pulp Fiction</td>\n",
              "      <td>8670</td>\n",
              "      <td>8.3</td>\n",
              "      <td>8.250813</td>\n",
              "    </tr>\n",
              "    <tr>\n",
              "      <th>474</th>\n",
              "      <td>Schindler's List</td>\n",
              "      <td>4436</td>\n",
              "      <td>8.3</td>\n",
              "      <td>8.205519</td>\n",
              "    </tr>\n",
              "    <tr>\n",
              "      <th>21500</th>\n",
              "      <td>Whiplash</td>\n",
              "      <td>4376</td>\n",
              "      <td>8.3</td>\n",
              "      <td>8.204270</td>\n",
              "    </tr>\n",
              "    <tr>\n",
              "      <th>4930</th>\n",
              "      <td>Spirited Away</td>\n",
              "      <td>3968</td>\n",
              "      <td>8.3</td>\n",
              "      <td>8.194813</td>\n",
              "    </tr>\n",
              "    <tr>\n",
              "      <th>1989</th>\n",
              "      <td>Life Is Beautiful</td>\n",
              "      <td>3643</td>\n",
              "      <td>8.3</td>\n",
              "      <td>8.185829</td>\n",
              "    </tr>\n",
              "    <tr>\n",
              "      <th>1067</th>\n",
              "      <td>The Godfather: Part II</td>\n",
              "      <td>3418</td>\n",
              "      <td>8.3</td>\n",
              "      <td>8.178653</td>\n",
              "    </tr>\n",
              "  </tbody>\n",
              "</table>\n",
              "</div>\n",
              "      <button class=\"colab-df-convert\" onclick=\"convertToInteractive('df-377f5b5b-3757-42d0-aba6-9bef19685e5e')\"\n",
              "              title=\"Convert this dataframe to an interactive table.\"\n",
              "              style=\"display:none;\">\n",
              "        \n",
              "  <svg xmlns=\"http://www.w3.org/2000/svg\" height=\"24px\"viewBox=\"0 0 24 24\"\n",
              "       width=\"24px\">\n",
              "    <path d=\"M0 0h24v24H0V0z\" fill=\"none\"/>\n",
              "    <path d=\"M18.56 5.44l.94 2.06.94-2.06 2.06-.94-2.06-.94-.94-2.06-.94 2.06-2.06.94zm-11 1L8.5 8.5l.94-2.06 2.06-.94-2.06-.94L8.5 2.5l-.94 2.06-2.06.94zm10 10l.94 2.06.94-2.06 2.06-.94-2.06-.94-.94-2.06-.94 2.06-2.06.94z\"/><path d=\"M17.41 7.96l-1.37-1.37c-.4-.4-.92-.59-1.43-.59-.52 0-1.04.2-1.43.59L10.3 9.45l-7.72 7.72c-.78.78-.78 2.05 0 2.83L4 21.41c.39.39.9.59 1.41.59.51 0 1.02-.2 1.41-.59l7.78-7.78 2.81-2.81c.8-.78.8-2.07 0-2.86zM5.41 20L4 18.59l7.72-7.72 1.47 1.35L5.41 20z\"/>\n",
              "  </svg>\n",
              "      </button>\n",
              "      \n",
              "  <style>\n",
              "    .colab-df-container {\n",
              "      display:flex;\n",
              "      flex-wrap:wrap;\n",
              "      gap: 12px;\n",
              "    }\n",
              "\n",
              "    .colab-df-convert {\n",
              "      background-color: #E8F0FE;\n",
              "      border: none;\n",
              "      border-radius: 50%;\n",
              "      cursor: pointer;\n",
              "      display: none;\n",
              "      fill: #1967D2;\n",
              "      height: 32px;\n",
              "      padding: 0 0 0 0;\n",
              "      width: 32px;\n",
              "    }\n",
              "\n",
              "    .colab-df-convert:hover {\n",
              "      background-color: #E2EBFA;\n",
              "      box-shadow: 0px 1px 2px rgba(60, 64, 67, 0.3), 0px 1px 3px 1px rgba(60, 64, 67, 0.15);\n",
              "      fill: #174EA6;\n",
              "    }\n",
              "\n",
              "    [theme=dark] .colab-df-convert {\n",
              "      background-color: #3B4455;\n",
              "      fill: #D2E3FC;\n",
              "    }\n",
              "\n",
              "    [theme=dark] .colab-df-convert:hover {\n",
              "      background-color: #434B5C;\n",
              "      box-shadow: 0px 1px 3px 1px rgba(0, 0, 0, 0.15);\n",
              "      filter: drop-shadow(0px 1px 2px rgba(0, 0, 0, 0.3));\n",
              "      fill: #FFFFFF;\n",
              "    }\n",
              "  </style>\n",
              "\n",
              "      <script>\n",
              "        const buttonEl =\n",
              "          document.querySelector('#df-377f5b5b-3757-42d0-aba6-9bef19685e5e button.colab-df-convert');\n",
              "        buttonEl.style.display =\n",
              "          google.colab.kernel.accessAllowed ? 'block' : 'none';\n",
              "\n",
              "        async function convertToInteractive(key) {\n",
              "          const element = document.querySelector('#df-377f5b5b-3757-42d0-aba6-9bef19685e5e');\n",
              "          const dataTable =\n",
              "            await google.colab.kernel.invokeFunction('convertToInteractive',\n",
              "                                                     [key], {});\n",
              "          if (!dataTable) return;\n",
              "\n",
              "          const docLinkHtml = 'Like what you see? Visit the ' +\n",
              "            '<a target=\"_blank\" href=https://colab.research.google.com/notebooks/data_table.ipynb>data table notebook</a>'\n",
              "            + ' to learn more about interactive tables.';\n",
              "          element.innerHTML = '';\n",
              "          dataTable['output_type'] = 'display_data';\n",
              "          await google.colab.output.renderOutput(dataTable, element);\n",
              "          const docLink = document.createElement('div');\n",
              "          docLink.innerHTML = docLinkHtml;\n",
              "          element.appendChild(docLink);\n",
              "        }\n",
              "      </script>\n",
              "    </div>\n",
              "  </div>\n",
              "  "
            ]
          },
          "metadata": {},
          "execution_count": 90
        }
      ]
    },
    {
      "cell_type": "markdown",
      "source": [
        "#4 비슷한 장르에 따른 영화 추천  \n",
        "\n",
        "영화의 장르를 찾아내고 이와 비슷한 장르의 영화를 추천하는 방식입니다.  \n",
        "영화 장르의 개수를 측정하여 장르의 중요도를 측정하고, 개수에 반비례하게 벡터의 크기를 결정합니다.  \n",
        "영화의 장르에 따른 벡터를 만들어 낸후, 각 영화 벡터의 cosine 각도를 계산하고, 각도가 적을수록 유사한 영화이므로 각도가 낮은 순서대로 output을 내보낸다. \n"
      ],
      "metadata": {
        "id": "AhUK8bL3Jyuf"
      }
    },
    {
      "cell_type": "code",
      "source": [
        "def connect(input):\n",
        "    for i in range(len(input)):\n",
        "        input[i] = input[i].replace(' ','_')\n",
        "    return input\n",
        "\n",
        "movie_df['genres'] = movie_df['genres'].apply(yaml.load)\n",
        "movie_df['genres'] = movie_df['genres'].apply(connect)\n",
        "movie_df['genres_literal'] = movie_df['genres'].apply(lambda x : (' ').join(x))\n",
        "movie_df.head(3)"
      ],
      "metadata": {
        "colab": {
          "base_uri": "https://localhost:8080/",
          "height": 143
        },
        "id": "eQv4NzSaHjKc",
        "outputId": "e377e989-56b7-48a2-a4e4-456642711469"
      },
      "execution_count": 91,
      "outputs": [
        {
          "output_type": "execute_result",
          "data": {
            "text/plain": [
              "       belongs_to_collection                        genres     id  \\\n",
              "0       Toy Story Collection   [Animation, Comedy, Family]    862   \n",
              "1                       None  [Adventure, Fantasy, Family]   8844   \n",
              "2  Grumpy Old Men Collection             [Romance, Comedy]  15602   \n",
              "\n",
              "  release_date                                            tagline  \\\n",
              "0   1995-10-30                                               None   \n",
              "1   1995-12-15          Roll the dice and unleash the excitement!   \n",
              "2   1995-12-22  Still Yelling. Still Fighting. Still Ready for...   \n",
              "\n",
              "              title  vote_average  vote_count            genres_literal  \n",
              "0         Toy Story           7.7        5415   Animation Comedy Family  \n",
              "1           Jumanji           6.9        2413  Adventure Fantasy Family  \n",
              "2  Grumpier Old Men           6.5          92            Romance Comedy  "
            ],
            "text/html": [
              "\n",
              "  <div id=\"df-2db09039-b39f-4476-82ee-02a312b7b567\">\n",
              "    <div class=\"colab-df-container\">\n",
              "      <div>\n",
              "<style scoped>\n",
              "    .dataframe tbody tr th:only-of-type {\n",
              "        vertical-align: middle;\n",
              "    }\n",
              "\n",
              "    .dataframe tbody tr th {\n",
              "        vertical-align: top;\n",
              "    }\n",
              "\n",
              "    .dataframe thead th {\n",
              "        text-align: right;\n",
              "    }\n",
              "</style>\n",
              "<table border=\"1\" class=\"dataframe\">\n",
              "  <thead>\n",
              "    <tr style=\"text-align: right;\">\n",
              "      <th></th>\n",
              "      <th>belongs_to_collection</th>\n",
              "      <th>genres</th>\n",
              "      <th>id</th>\n",
              "      <th>release_date</th>\n",
              "      <th>tagline</th>\n",
              "      <th>title</th>\n",
              "      <th>vote_average</th>\n",
              "      <th>vote_count</th>\n",
              "      <th>genres_literal</th>\n",
              "    </tr>\n",
              "  </thead>\n",
              "  <tbody>\n",
              "    <tr>\n",
              "      <th>0</th>\n",
              "      <td>Toy Story Collection</td>\n",
              "      <td>[Animation, Comedy, Family]</td>\n",
              "      <td>862</td>\n",
              "      <td>1995-10-30</td>\n",
              "      <td>None</td>\n",
              "      <td>Toy Story</td>\n",
              "      <td>7.7</td>\n",
              "      <td>5415</td>\n",
              "      <td>Animation Comedy Family</td>\n",
              "    </tr>\n",
              "    <tr>\n",
              "      <th>1</th>\n",
              "      <td>None</td>\n",
              "      <td>[Adventure, Fantasy, Family]</td>\n",
              "      <td>8844</td>\n",
              "      <td>1995-12-15</td>\n",
              "      <td>Roll the dice and unleash the excitement!</td>\n",
              "      <td>Jumanji</td>\n",
              "      <td>6.9</td>\n",
              "      <td>2413</td>\n",
              "      <td>Adventure Fantasy Family</td>\n",
              "    </tr>\n",
              "    <tr>\n",
              "      <th>2</th>\n",
              "      <td>Grumpy Old Men Collection</td>\n",
              "      <td>[Romance, Comedy]</td>\n",
              "      <td>15602</td>\n",
              "      <td>1995-12-22</td>\n",
              "      <td>Still Yelling. Still Fighting. Still Ready for...</td>\n",
              "      <td>Grumpier Old Men</td>\n",
              "      <td>6.5</td>\n",
              "      <td>92</td>\n",
              "      <td>Romance Comedy</td>\n",
              "    </tr>\n",
              "  </tbody>\n",
              "</table>\n",
              "</div>\n",
              "      <button class=\"colab-df-convert\" onclick=\"convertToInteractive('df-2db09039-b39f-4476-82ee-02a312b7b567')\"\n",
              "              title=\"Convert this dataframe to an interactive table.\"\n",
              "              style=\"display:none;\">\n",
              "        \n",
              "  <svg xmlns=\"http://www.w3.org/2000/svg\" height=\"24px\"viewBox=\"0 0 24 24\"\n",
              "       width=\"24px\">\n",
              "    <path d=\"M0 0h24v24H0V0z\" fill=\"none\"/>\n",
              "    <path d=\"M18.56 5.44l.94 2.06.94-2.06 2.06-.94-2.06-.94-.94-2.06-.94 2.06-2.06.94zm-11 1L8.5 8.5l.94-2.06 2.06-.94-2.06-.94L8.5 2.5l-.94 2.06-2.06.94zm10 10l.94 2.06.94-2.06 2.06-.94-2.06-.94-.94-2.06-.94 2.06-2.06.94z\"/><path d=\"M17.41 7.96l-1.37-1.37c-.4-.4-.92-.59-1.43-.59-.52 0-1.04.2-1.43.59L10.3 9.45l-7.72 7.72c-.78.78-.78 2.05 0 2.83L4 21.41c.39.39.9.59 1.41.59.51 0 1.02-.2 1.41-.59l7.78-7.78 2.81-2.81c.8-.78.8-2.07 0-2.86zM5.41 20L4 18.59l7.72-7.72 1.47 1.35L5.41 20z\"/>\n",
              "  </svg>\n",
              "      </button>\n",
              "      \n",
              "  <style>\n",
              "    .colab-df-container {\n",
              "      display:flex;\n",
              "      flex-wrap:wrap;\n",
              "      gap: 12px;\n",
              "    }\n",
              "\n",
              "    .colab-df-convert {\n",
              "      background-color: #E8F0FE;\n",
              "      border: none;\n",
              "      border-radius: 50%;\n",
              "      cursor: pointer;\n",
              "      display: none;\n",
              "      fill: #1967D2;\n",
              "      height: 32px;\n",
              "      padding: 0 0 0 0;\n",
              "      width: 32px;\n",
              "    }\n",
              "\n",
              "    .colab-df-convert:hover {\n",
              "      background-color: #E2EBFA;\n",
              "      box-shadow: 0px 1px 2px rgba(60, 64, 67, 0.3), 0px 1px 3px 1px rgba(60, 64, 67, 0.15);\n",
              "      fill: #174EA6;\n",
              "    }\n",
              "\n",
              "    [theme=dark] .colab-df-convert {\n",
              "      background-color: #3B4455;\n",
              "      fill: #D2E3FC;\n",
              "    }\n",
              "\n",
              "    [theme=dark] .colab-df-convert:hover {\n",
              "      background-color: #434B5C;\n",
              "      box-shadow: 0px 1px 3px 1px rgba(0, 0, 0, 0.15);\n",
              "      filter: drop-shadow(0px 1px 2px rgba(0, 0, 0, 0.3));\n",
              "      fill: #FFFFFF;\n",
              "    }\n",
              "  </style>\n",
              "\n",
              "      <script>\n",
              "        const buttonEl =\n",
              "          document.querySelector('#df-2db09039-b39f-4476-82ee-02a312b7b567 button.colab-df-convert');\n",
              "        buttonEl.style.display =\n",
              "          google.colab.kernel.accessAllowed ? 'block' : 'none';\n",
              "\n",
              "        async function convertToInteractive(key) {\n",
              "          const element = document.querySelector('#df-2db09039-b39f-4476-82ee-02a312b7b567');\n",
              "          const dataTable =\n",
              "            await google.colab.kernel.invokeFunction('convertToInteractive',\n",
              "                                                     [key], {});\n",
              "          if (!dataTable) return;\n",
              "\n",
              "          const docLinkHtml = 'Like what you see? Visit the ' +\n",
              "            '<a target=\"_blank\" href=https://colab.research.google.com/notebooks/data_table.ipynb>data table notebook</a>'\n",
              "            + ' to learn more about interactive tables.';\n",
              "          element.innerHTML = '';\n",
              "          dataTable['output_type'] = 'display_data';\n",
              "          await google.colab.output.renderOutput(dataTable, element);\n",
              "          const docLink = document.createElement('div');\n",
              "          docLink.innerHTML = docLinkHtml;\n",
              "          element.appendChild(docLink);\n",
              "        }\n",
              "      </script>\n",
              "    </div>\n",
              "  </div>\n",
              "  "
            ]
          },
          "metadata": {},
          "execution_count": 91
        }
      ]
    },
    {
      "cell_type": "code",
      "source": [
        "from sklearn.metrics.pairwise import cosine_similarity\n",
        "from sklearn.feature_extraction.text import CountVectorizer\n",
        "from sklearn.feature_extraction.text import TfidfVectorizer\n",
        "\n",
        "genres_vect = TfidfVectorizer().fit_transform(movie_df['genres_literal'])\n",
        "genre_sim = cosine_similarity(genres_vect[0], genres_vect)\n",
        "print(genre_sim)\n",
        "def sort_similar(input,output):\n",
        "    for i in range(len(input)):\n",
        "        output[i] = input[i].argsort()[::-1]\n",
        "genre_sim_idx = genre_sim.argsort()\n",
        "sort_similar(genre_sim,genre_sim_idx)"
      ],
      "metadata": {
        "colab": {
          "base_uri": "https://localhost:8080/"
        },
        "id": "KfZccHovcR0q",
        "outputId": "296c3137-7ebf-4fb5-9e98-e1a349943f72"
      },
      "execution_count": 92,
      "outputs": [
        {
          "output_type": "stream",
          "name": "stdout",
          "text": [
            "[[1.         0.36248112 0.22609212 ... 0.         0.         0.        ]]\n"
          ]
        }
      ]
    },
    {
      "cell_type": "code",
      "source": [
        "def find_sim_movie(df, title_name, top_n=10):\n",
        "    # 비교기준으로 선정할 특정 영화 선정\n",
        "    title_movie = df[df['title'] == title_name]\n",
        "    # 비교기준 영화의 index.values를 할당해 유사도 행렬에서 비교기준 영화에 해당하는 유사도 행렬값을 찾자!\n",
        "    title_movie_idx = title_movie.index.values[0]\n",
        "    # 모든 영화끼리의 유사도 행렬에서 비교기준 영화에 대한 유사도행렬 찾아서 할당\n",
        "    sim_idx = genre_sim_idx[0]\n",
        "    top_sim_idx = np.array([])\n",
        "    pos = 0\n",
        "    while(len(top_sim_idx) < len(sim_idx) and len(top_sim_idx) < top_n):\n",
        "        if (sim_idx[pos] != title_movie_idx):\n",
        "            top_sim_idx = np.append(top_sim_idx,sim_idx[pos])\n",
        "        pos += 1\n",
        "    \n",
        "    # top_sim_idx는 2차원 array이기 때문에 1차원 array로 변경\n",
        "    #similar_movie = df.iloc[top_sim_idx]\n",
        "    similar_movie = df.iloc[top_sim_idx].sort_values('vote_average', ascending=False)\n",
        "    \n",
        "    return similar_movie\n",
        "print(genre_sim_idx)\n",
        "movie_name = movie_df.iloc[0]['title']\n",
        "print(movie_name)\n",
        "print(movie_df[movie_df['title'] == movie_name]['genres'])\n",
        "similar_movies = find_sim_movie(movie_df, movie_name)\n",
        "print(similar_movies[['title','genres']])\n",
        "\n",
        "#toy story와 유사한 장르의 영화 10개를 나열했다."
      ],
      "metadata": {
        "colab": {
          "base_uri": "https://localhost:8080/"
        },
        "id": "olDNqZbceQnD",
        "outputId": "76a14258-40c0-4e13-f827-f4f178bace27"
      },
      "execution_count": 93,
      "outputs": [
        {
          "output_type": "stream",
          "name": "stdout",
          "text": [
            "[[    0  2692 16496 ... 24738 24739 20744]]\n",
            "Toy Story\n",
            "0    [Animation, Comedy, Family]\n",
            "Name: genres, dtype: object\n",
            "                                title                       genres\n",
            "665                     A Close Shave  [Family, Animation, Comedy]\n",
            "2692                      Toy Story 2  [Animation, Comedy, Family]\n",
            "2974                Creature Comforts  [Animation, Comedy, Family]\n",
            "637                  Oliver & Company  [Animation, Comedy, Family]\n",
            "25987  Tom and Jerry: The Lost Dragon  [Animation, Comedy, Family]\n",
            "25767               Stitch! The Movie  [Animation, Comedy, Family]\n",
            "10165       A Boy Named Charlie Brown  [Animation, Comedy, Family]\n",
            "16496                  Happy Feet Two  [Animation, Comedy, Family]\n",
            "25985                  Animals United  [Animation, Family, Comedy]\n",
            "10066                        Barnyard  [Animation, Comedy, Family]\n"
          ]
        }
      ]
    },
    {
      "cell_type": "markdown",
      "source": [
        "#5 예상평점에 따른 영화 추천\n",
        "\n",
        "SVD 분해 기법을 이용해 유저-영화-점수로 이루어진 행렬을 분해합니다.  \n",
        "각 분해 행렬의 크기를 변환시킨뒤, trainset에서 데이터를 사용하여 rmse를 측정한 후, cv 값만큼 반복하여 계속해서 학습하여서 정확도를 높히는 과정을 반복한다.   \n",
        "그러면 결국 변형된 유저-영화-점수 행렬이 생성될 것이고, 이 값은 예상 평점이 되어서 영화 추천에 사용될 수가 있다."
      ],
      "metadata": {
        "id": "f2Vf2u4lhhQT"
      }
    },
    {
      "cell_type": "code",
      "source": [
        "!pip install scikit-surprise\n"
      ],
      "metadata": {
        "id": "_V60cZlyhgV3",
        "colab": {
          "base_uri": "https://localhost:8080/"
        },
        "outputId": "2698d683-9a0f-4dce-c6b9-14b4a2c31f14"
      },
      "execution_count": 94,
      "outputs": [
        {
          "output_type": "stream",
          "name": "stdout",
          "text": [
            "Requirement already satisfied: scikit-surprise in /usr/local/lib/python3.7/dist-packages (1.1.1)\n",
            "Requirement already satisfied: joblib>=0.11 in /usr/local/lib/python3.7/dist-packages (from scikit-surprise) (1.1.0)\n",
            "Requirement already satisfied: six>=1.10.0 in /usr/local/lib/python3.7/dist-packages (from scikit-surprise) (1.15.0)\n",
            "Requirement already satisfied: scipy>=1.0.0 in /usr/local/lib/python3.7/dist-packages (from scikit-surprise) (1.4.1)\n",
            "Requirement already satisfied: numpy>=1.11.2 in /usr/local/lib/python3.7/dist-packages (from scikit-surprise) (1.21.6)\n"
          ]
        }
      ]
    },
    {
      "cell_type": "code",
      "source": [
        "from surprise import SVD\n",
        "from surprise import accuracy\n",
        "from surprise import Dataset, Reader\n",
        "from surprise.model_selection import cross_validate\n",
        "\n",
        "reader = Reader()\n",
        "data = Dataset.load_from_df(rating_df[['userId', 'movieId','rating']], reader)\n",
        "svd = SVD()\n",
        "cross_validate(svd, data, measures=['RMSE', 'MAE'], cv=4, verbose=True)\n",
        "trainset = data.build_full_trainset()\n",
        "svd.fit(trainset)\n",
        "rating_df[rating_df['userId'] == 1]"
      ],
      "metadata": {
        "colab": {
          "base_uri": "https://localhost:8080/",
          "height": 178
        },
        "id": "Av1xI4nfq1Uv",
        "outputId": "0b65488f-bc2a-4e56-f882-463f1b4e8b04"
      },
      "execution_count": 74,
      "outputs": [
        {
          "output_type": "stream",
          "name": "stdout",
          "text": [
            "Evaluating RMSE, MAE of algorithm SVD on 4 split(s).\n",
            "\n",
            "                  Fold 1  Fold 2  Fold 3  Fold 4  Mean    Std     \n",
            "RMSE (testset)    0.9053  0.8953  0.8945  0.9015  0.8991  0.0045  \n",
            "MAE (testset)     0.6970  0.6897  0.6896  0.6931  0.6923  0.0030  \n",
            "Fit time          5.87    12.98   6.11    9.07    8.51    2.87    \n",
            "Test time         0.51    1.14    0.52    0.24    0.60    0.33    \n"
          ]
        },
        {
          "output_type": "execute_result",
          "data": {
            "text/plain": [
              "Empty DataFrame\n",
              "Columns: [userId, movieId, rating]\n",
              "Index: []"
            ],
            "text/html": [
              "\n",
              "  <div id=\"df-2ae0e25b-621a-4973-8f7c-991a4c765d16\">\n",
              "    <div class=\"colab-df-container\">\n",
              "      <div>\n",
              "<style scoped>\n",
              "    .dataframe tbody tr th:only-of-type {\n",
              "        vertical-align: middle;\n",
              "    }\n",
              "\n",
              "    .dataframe tbody tr th {\n",
              "        vertical-align: top;\n",
              "    }\n",
              "\n",
              "    .dataframe thead th {\n",
              "        text-align: right;\n",
              "    }\n",
              "</style>\n",
              "<table border=\"1\" class=\"dataframe\">\n",
              "  <thead>\n",
              "    <tr style=\"text-align: right;\">\n",
              "      <th></th>\n",
              "      <th>userId</th>\n",
              "      <th>movieId</th>\n",
              "      <th>rating</th>\n",
              "    </tr>\n",
              "  </thead>\n",
              "  <tbody>\n",
              "  </tbody>\n",
              "</table>\n",
              "</div>\n",
              "      <button class=\"colab-df-convert\" onclick=\"convertToInteractive('df-2ae0e25b-621a-4973-8f7c-991a4c765d16')\"\n",
              "              title=\"Convert this dataframe to an interactive table.\"\n",
              "              style=\"display:none;\">\n",
              "        \n",
              "  <svg xmlns=\"http://www.w3.org/2000/svg\" height=\"24px\"viewBox=\"0 0 24 24\"\n",
              "       width=\"24px\">\n",
              "    <path d=\"M0 0h24v24H0V0z\" fill=\"none\"/>\n",
              "    <path d=\"M18.56 5.44l.94 2.06.94-2.06 2.06-.94-2.06-.94-.94-2.06-.94 2.06-2.06.94zm-11 1L8.5 8.5l.94-2.06 2.06-.94-2.06-.94L8.5 2.5l-.94 2.06-2.06.94zm10 10l.94 2.06.94-2.06 2.06-.94-2.06-.94-.94-2.06-.94 2.06-2.06.94z\"/><path d=\"M17.41 7.96l-1.37-1.37c-.4-.4-.92-.59-1.43-.59-.52 0-1.04.2-1.43.59L10.3 9.45l-7.72 7.72c-.78.78-.78 2.05 0 2.83L4 21.41c.39.39.9.59 1.41.59.51 0 1.02-.2 1.41-.59l7.78-7.78 2.81-2.81c.8-.78.8-2.07 0-2.86zM5.41 20L4 18.59l7.72-7.72 1.47 1.35L5.41 20z\"/>\n",
              "  </svg>\n",
              "      </button>\n",
              "      \n",
              "  <style>\n",
              "    .colab-df-container {\n",
              "      display:flex;\n",
              "      flex-wrap:wrap;\n",
              "      gap: 12px;\n",
              "    }\n",
              "\n",
              "    .colab-df-convert {\n",
              "      background-color: #E8F0FE;\n",
              "      border: none;\n",
              "      border-radius: 50%;\n",
              "      cursor: pointer;\n",
              "      display: none;\n",
              "      fill: #1967D2;\n",
              "      height: 32px;\n",
              "      padding: 0 0 0 0;\n",
              "      width: 32px;\n",
              "    }\n",
              "\n",
              "    .colab-df-convert:hover {\n",
              "      background-color: #E2EBFA;\n",
              "      box-shadow: 0px 1px 2px rgba(60, 64, 67, 0.3), 0px 1px 3px 1px rgba(60, 64, 67, 0.15);\n",
              "      fill: #174EA6;\n",
              "    }\n",
              "\n",
              "    [theme=dark] .colab-df-convert {\n",
              "      background-color: #3B4455;\n",
              "      fill: #D2E3FC;\n",
              "    }\n",
              "\n",
              "    [theme=dark] .colab-df-convert:hover {\n",
              "      background-color: #434B5C;\n",
              "      box-shadow: 0px 1px 3px 1px rgba(0, 0, 0, 0.15);\n",
              "      filter: drop-shadow(0px 1px 2px rgba(0, 0, 0, 0.3));\n",
              "      fill: #FFFFFF;\n",
              "    }\n",
              "  </style>\n",
              "\n",
              "      <script>\n",
              "        const buttonEl =\n",
              "          document.querySelector('#df-2ae0e25b-621a-4973-8f7c-991a4c765d16 button.colab-df-convert');\n",
              "        buttonEl.style.display =\n",
              "          google.colab.kernel.accessAllowed ? 'block' : 'none';\n",
              "\n",
              "        async function convertToInteractive(key) {\n",
              "          const element = document.querySelector('#df-2ae0e25b-621a-4973-8f7c-991a4c765d16');\n",
              "          const dataTable =\n",
              "            await google.colab.kernel.invokeFunction('convertToInteractive',\n",
              "                                                     [key], {});\n",
              "          if (!dataTable) return;\n",
              "\n",
              "          const docLinkHtml = 'Like what you see? Visit the ' +\n",
              "            '<a target=\"_blank\" href=https://colab.research.google.com/notebooks/data_table.ipynb>data table notebook</a>'\n",
              "            + ' to learn more about interactive tables.';\n",
              "          element.innerHTML = '';\n",
              "          dataTable['output_type'] = 'display_data';\n",
              "          await google.colab.output.renderOutput(dataTable, element);\n",
              "          const docLink = document.createElement('div');\n",
              "          docLink.innerHTML = docLinkHtml;\n",
              "          element.appendChild(docLink);\n",
              "        }\n",
              "      </script>\n",
              "    </div>\n",
              "  </div>\n",
              "  "
            ]
          },
          "metadata": {},
          "execution_count": 74
        }
      ]
    },
    {
      "cell_type": "code",
      "source": [
        "#1번의 32번 영화의 예측 평점 계산\n",
        "svd.predict(1, 32, 5)"
      ],
      "metadata": {
        "colab": {
          "base_uri": "https://localhost:8080/"
        },
        "id": "51H_Nx1Lp5-j",
        "outputId": "f226f5c6-d318-4799-9a17-6d2065be93fe"
      },
      "execution_count": 75,
      "outputs": [
        {
          "output_type": "execute_result",
          "data": {
            "text/plain": [
              "Prediction(uid=1, iid=32, r_ui=5, est=3.543608255669773, details={'was_impossible': False})"
            ]
          },
          "metadata": {},
          "execution_count": 75
        }
      ]
    }
  ]
}
